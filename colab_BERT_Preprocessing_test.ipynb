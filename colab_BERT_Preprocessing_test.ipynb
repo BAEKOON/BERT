{
 "cells": [
  {
   "cell_type": "code",
   "execution_count": 1,
   "metadata": {
    "colab": {
     "base_uri": "https://localhost:8080/"
    },
    "executionInfo": {
     "elapsed": 835,
     "status": "ok",
     "timestamp": 1613974132006,
     "user": {
      "displayName": "김준태",
      "photoUrl": "https://lh3.googleusercontent.com/a-/AOh14Gg9__DcWYxTiKkAN1YWi9jmHLzkwYN4gTdJzi25=s64",
      "userId": "12897466227471433900"
     },
     "user_tz": -540
    },
    "id": "23-SsWEySf9K",
    "outputId": "9b27a21a-c136-4b6f-f4c9-9eb455d90b9f"
   },
   "outputs": [
    {
     "name": "stdout",
     "output_type": "stream",
     "text": [
      "Drive already mounted at /content/gdrive; to attempt to forcibly remount, call drive.mount(\"/content/gdrive\", force_remount=True).\n"
     ]
    }
   ],
   "source": [
    "# 구글 드라이브 연동\r\n",
    "from google.colab import drive\r\n",
    "drive.mount('/content/gdrive')\r\n",
    "# 참고 사이트 : https://m.blog.naver.com/anne9/221798711142\r\n",
    "#  내 드라이브 위치 : '/content/gdrive/My Drive/"
   ]
  },
  {
   "cell_type": "code",
   "execution_count": 2,
   "metadata": {
    "colab": {
     "base_uri": "https://localhost:8080/"
    },
    "executionInfo": {
     "elapsed": 828,
     "status": "ok",
     "timestamp": 1613974132007,
     "user": {
      "displayName": "김준태",
      "photoUrl": "https://lh3.googleusercontent.com/a-/AOh14Gg9__DcWYxTiKkAN1YWi9jmHLzkwYN4gTdJzi25=s64",
      "userId": "12897466227471433900"
     },
     "user_tz": -540
    },
    "id": "7E8h3zdtUVUg",
    "outputId": "f574819e-eaba-48ef-cff1-0ff3f62e5d8f"
   },
   "outputs": [
    {
     "name": "stdout",
     "output_type": "stream",
     "text": [
      "['', '/env/python', '/usr/lib/python36.zip', '/usr/lib/python3.6', '/usr/lib/python3.6/lib-dynload', '/usr/local/lib/python3.6/dist-packages', '/usr/lib/python3/dist-packages', '/usr/local/lib/python3.6/dist-packages/IPython/extensions', '/root/.ipython']\n"
     ]
    }
   ],
   "source": [
    "import sys\r\n",
    "print(sys.path)"
   ]
  },
  {
   "cell_type": "code",
   "execution_count": 3,
   "metadata": {
    "executionInfo": {
     "elapsed": 823,
     "status": "ok",
     "timestamp": 1613974132009,
     "user": {
      "displayName": "김준태",
      "photoUrl": "https://lh3.googleusercontent.com/a-/AOh14Gg9__DcWYxTiKkAN1YWi9jmHLzkwYN4gTdJzi25=s64",
      "userId": "12897466227471433900"
     },
     "user_tz": -540
    },
    "id": "pI8pI2XiUalt"
   },
   "outputs": [],
   "source": [
    "sys.path.append('/content/gdrive/My Drive/Colab Notebooks/BERT_Preprocessing')"
   ]
  },
  {
   "cell_type": "code",
   "execution_count": 4,
   "metadata": {
    "executionInfo": {
     "elapsed": 1607,
     "status": "ok",
     "timestamp": 1613974132796,
     "user": {
      "displayName": "김준태",
      "photoUrl": "https://lh3.googleusercontent.com/a-/AOh14Gg9__DcWYxTiKkAN1YWi9jmHLzkwYN4gTdJzi25=s64",
      "userId": "12897466227471433900"
     },
     "user_tz": -540
    },
    "id": "CiTH3rAES1c3"
   },
   "outputs": [],
   "source": [
    "import time\r\n",
    "import nltk\r\n",
    "import pandas as pd\r\n",
    "import re\r\n",
    "import nltk\r\n",
    "from nltk.corpus import stopl have\"\r\n",
    "from contractions_sentiment import CONTRACION_MAP \r\n",
    "from nltk.stem import WordNetLemmatizer\r\n",
    "from nltk.corpus import wordnet\r\n",
    "from nltk.tokenize import TweetTokenizer\r\n",
    "from tqdm import tqdm # 상태 표시줄\r\n",
    "from multiprocessing import Pool # 병렬 처리"
   ]
  },
  {
   "cell_type": "code",
   "execution_count": 5,
   "metadata": {
    "colab": {
     "base_uri": "https://localhost:8080/"
    },
    "executionInfo": {
     "elapsed": 1608,
     "status": "ok",
     "timestamp": 1613974132801,
     "user": {
      "displayName": "김준태",
      "photoUrl": "https://lh3.googleusercontent.com/a-/AOh14Gg9__DcWYxTiKkAN1YWi9jmHLzkwYN4gTdJzi25=s64",
      "userId": "12897466227471433900"
     },
     "user_tz": -540
    },
    "id": "X2zIifbdTPhg",
    "outputId": "03100e94-8780-45cb-ad2c-bf348ca8bf77"
   },
   "outputs": [
    {
     "name": "stdout",
     "output_type": "stream",
     "text": [
      "[nltk_data] Downloading package wordnet to /root/nltk_data...\n",
      "[nltk_data]   Package wordnet is already up-to-date!\n"
     ]
    },
    {
     "data": {
      "text/plain": [
       "True"
      ]
     },
     "execution_count": 5,
     "metadata": {
      "tags": []
     },
     "output_type": "execute_result"
    }
   ],
   "source": [
    "nltk.download('wordnet')"
   ]
  },
  {
   "cell_type": "code",
   "execution_count": 6,
   "metadata": {
    "colab": {
     "base_uri": "https://localhost:8080/"
    },
    "executionInfo": {
     "elapsed": 1603,
     "status": "ok",
     "timestamp": 1613974132802,
     "user": {
      "displayName": "김준태",
      "photoUrl": "https://lh3.googleusercontent.com/a-/AOh14Gg9__DcWYxTiKkAN1YWi9jmHLzkwYN4gTdJzi25=s64",
      "userId": "12897466227471433900"
     },
     "user_tz": -540
    },
    "id": "5PlZspVcU_lX",
    "outputId": "0c06fa10-aab7-4c08-9a6c-fe57f7b1a5ec"
   },
   "outputs": [
    {
     "name": "stdout",
     "output_type": "stream",
     "text": [
      "[nltk_data] Downloading package stopwords to /root/nltk_data...\n",
      "[nltk_data]   Package stopwords is already up-to-date!\n"
     ]
    },
    {
     "data": {
      "text/plain": [
       "True"
      ]
     },
     "execution_count": 6,
     "metadata": {
      "tags": []
     },
     "output_type": "execute_result"
    }
   ],
   "source": [
    "nltk.download('stopwords')"
   ]
  },
  {
   "cell_type": "code",
   "execution_count": 7,
   "metadata": {
    "colab": {
     "base_uri": "https://localhost:8080/"
    },
    "executionInfo": {
     "elapsed": 1600,
     "status": "ok",
     "timestamp": 1613974132803,
     "user": {
      "displayName": "김준태",
      "photoUrl": "https://lh3.googleusercontent.com/a-/AOh14Gg9__DcWYxTiKkAN1YWi9jmHLzkwYN4gTdJzi25=s64",
      "userId": "12897466227471433900"
     },
     "user_tz": -540
    },
    "id": "qfaTGmy-Vc0l",
    "outputId": "4af78e1c-6c94-4cde-f7ce-0316bc9575b1"
   },
   "outputs": [
    {
     "name": "stdout",
     "output_type": "stream",
     "text": [
      "[nltk_data] Downloading package punkt to /root/nltk_data...\n",
      "[nltk_data]   Package punkt is already up-to-date!\n"
     ]
    },
    {
     "data": {
      "text/plain": [
       "True"
      ]
     },
     "execution_count": 7,
     "metadata": {
      "tags": []
     },
     "output_type": "execute_result"
    }
   ],
   "source": [
    "nltk.download('punkt')"
   ]
  },
  {
   "cell_type": "code",
   "execution_count": 8,
   "metadata": {
    "colab": {
     "base_uri": "https://localhost:8080/"
    },
    "executionInfo": {
     "elapsed": 1595,
     "status": "ok",
     "timestamp": 1613974132803,
     "user": {
      "displayName": "김준태",
      "photoUrl": "https://lh3.googleusercontent.com/a-/AOh14Gg9__DcWYxTiKkAN1YWi9jmHLzkwYN4gTdJzi25=s64",
      "userId": "12897466227471433900"
     },
     "user_tz": -540
    },
    "id": "BWsD7zaNWGi-",
    "outputId": "9b0502f3-7516-48da-de1b-9f12ceb4e4fe"
   },
   "outputs": [
    {
     "name": "stdout",
     "output_type": "stream",
     "text": [
      "[nltk_data] Downloading package averaged_perceptron_tagger to\n",
      "[nltk_data]     /root/nltk_data...\n",
      "[nltk_data]   Package averaged_perceptron_tagger is already up-to-\n",
      "[nltk_data]       date!\n"
     ]
    },
    {
     "data": {
      "text/plain": [
       "True"
      ]
     },
     "execution_count": 8,
     "metadata": {
      "tags": []
     },
     "output_type": "execute_result"
    }
   ],
   "source": [
    "nltk.download('averaged_perceptron_tagger')"
   ]
  },
  {
   "cell_type": "code",
   "execution_count": 9,
   "metadata": {
    "colab": {
     "base_uri": "https://localhost:8080/"
    },
    "executionInfo": {
     "elapsed": 3016,
     "status": "ok",
     "timestamp": 1613974134228,
     "user": {
      "displayName": "김준태",
      "photoUrl": "https://lh3.googleusercontent.com/a-/AOh14Gg9__DcWYxTiKkAN1YWi9jmHLzkwYN4gTdJzi25=s64",
      "userId": "12897466227471433900"
     },
     "user_tz": -540
    },
    "id": "K3CJ-1x-TdGZ",
    "outputId": "f8a150ba-9b26-422c-f837-b0052258f307"
   },
   "outputs": [
    {
     "name": "stdout",
     "output_type": "stream",
     "text": [
      "rocks : rock\n",
      "corpora : corpus\n",
      "was : wa\n",
      "were : were\n",
      "is : is\n",
      "are : are\n",
      "be\n",
      "be\n"
     ]
    }
   ],
   "source": [
    "stopword_list = nltk.corpus.stopwords.words('english')\r\n",
    "stopword_list.remove('no') # 불용어 list에서 감정분석에 영향이 큰 no, not 제거\r\n",
    "stopword_list.remove('not')\r\n",
    "\r\n",
    "stemmer = nltk.stem.SnowballStemmer('english') # Stemming(어간 추출) : 형태소적 형태를 간소화\r\n",
    "lemma = WordNetLemmatizer() # Lemmatization(표제어 추출) : 단어의 기본 사전형 추출\r\n",
    "\r\n",
    "print(\"rocks :\", lemma.lemmatize(\"rocks\")) \r\n",
    "print(\"corpora :\", lemma.lemmatize(\"corpora\")) \r\n",
    "print(\"was :\", lemma.lemmatize(\"was\")) \r\n",
    "print(\"were :\", lemma.lemmatize(\"were\")) \r\n",
    "print(\"is :\", lemma.lemmatize(\"is\"))\r\n",
    "print(\"are :\", lemma.lemmatize(\"are\"))\r\n",
    "\r\n",
    "print(lemma.lemmatize(\"was\", 'v'))\r\n",
    "print(lemma.lemmatize(\"are\", 'v')) # lemma.lemmatize document 찾아보기"
   ]
  },
  {
   "cell_type": "code",
   "execution_count": 10,
   "metadata": {
    "executionInfo": {
     "elapsed": 3014,
     "status": "ok",
     "timestamp": 1613974134230,
     "user": {
      "displayName": "김준태",
      "photoUrl": "https://lh3.googleusercontent.com/a-/AOh14Gg9__DcWYxTiKkAN1YWi9jmHLzkwYN4gTdJzi25=s64",
      "userId": "12897466227471433900"
     },
     "user_tz": -540
    },
    "id": "mN9LamhOTdzA"
   },
   "outputs": [],
   "source": [
    "def get_wordnet_pos(word):\r\n",
    "    #print(nltk.pos_tag([word])[0])\r\n",
    "    #print(nltk.pos_tag([word])[0][1])\r\n",
    "    #print(nltk.pos_tag([word])[0][1][0])\r\n",
    "    tag = nltk.pos_tag([word])[0][1][0].upper() #pos_tag : Part-Of-Speech Tag, 품사 태깅\r\n",
    "    tag_dict = {\"J\": wordnet.ADJ,\r\n",
    "                \"N\": wordnet.NOUN,\r\n",
    "                \"V\": wordnet.VERB,\r\n",
    "                \"R\": wordnet.ADV}\r\n",
    "    return tag_dict.get(tag, wordnet.NOUN)"
   ]
  },
  {
   "cell_type": "code",
   "execution_count": 11,
   "metadata": {
    "colab": {
     "base_uri": "https://localhost:8080/",
     "height": 35
    },
    "executionInfo": {
     "elapsed": 3012,
     "status": "ok",
     "timestamp": 1613974134231,
     "user": {
      "displayName": "김준태",
      "photoUrl": "https://lh3.googleusercontent.com/a-/AOh14Gg9__DcWYxTiKkAN1YWi9jmHLzkwYN4gTdJzi25=s64",
      "userId": "12897466227471433900"
     },
     "user_tz": -540
    },
    "id": "Cy__uL36Td3e",
    "outputId": "6b5a5eef-2e31-47ea-a4d2-2b15859b2577"
   },
   "outputs": [
    {
     "data": {
      "application/vnd.google.colaboratory.intrinsic+json": {
       "type": "string"
      },
      "text/plain": [
       "'You all Can not expand contractions I would think'"
      ]
     },
     "execution_count": 11,
     "metadata": {
      "tags": []
     },
     "output_type": "execute_result"
    }
   ],
   "source": [
    "def expand_contractions(text, contraction_mapping=CONTRACTION_MAP):\r\n",
    "    \r\n",
    "    contractions_pattern = re.compile('({})'.format('|'.join(contraction_mapping.keys())), # contraction_mapping.keys : 바꾸려는 축약어\r\n",
    "                                      flags=re.IGNORECASE|re.DOTALL)\r\n",
    "    # re.compile : ''안에 정규표현식 수행 / flags ~ | 로 묶어서 수행할 정규표현식에 옵션 추가\r\n",
    "    # re.IGNORECASE : 대소문자 구분하지 않음\r\n",
    "    # re.DOTALL : 정규표현식에서 . 의 의미로 '모든' 문자\r\n",
    "    def expand_match(contraction):\r\n",
    "        match = contraction.group(0) # group(0) : group0에 매칭된 단어 반환 // group 0, group 1 까지 있음\r\n",
    "        #match2 = contraction.group(1) # group0이랑 무슨 차이?\r\n",
    "        #print('match : ',match) # 위에서 정의한 축약어 패턴과 매치하는 부분 찾음\r\n",
    "        #print('match2 : ', match2)\r\n",
    "        first_char = match[0] # 원본 첫번째 문자 따로 빼놓음 -> 아래에서 붙일지 말지 때문에\r\n",
    "        # match 값 가져와서 mapping 되면 그 값 가져오고\r\n",
    "        # 안 맞으면 소문자화해서 다시 mapping\r\n",
    "        expanded_contraction = contraction_mapping.get(match)\\\r\n",
    "                                if contraction_mapping.get(match)\\\r\n",
    "                                else contraction_mapping.get(match.lower()) \r\n",
    "        expanded_contraction = first_char+expanded_contraction[1:] # 원본 첫번째 문자가 대문자이면 유지하고 붙여서 return\r\n",
    "        #print('expanded contraction : ',expanded_contraction) # 축약어 풀어서 변환\r\n",
    "        return expanded_contraction\r\n",
    "    \r\n",
    "    # re.sub(pattern, replacement, string)\r\n",
    "    expanded_text = contractions_pattern.sub(expand_match, text)\r\n",
    "    # sub : text에서 contractions_pattern에 맞는 것을 찾앚을 시 expand_match 함수에 맞게 바꿈\r\n",
    "    #expanded_text = re.sub(\"'\", \"\", expanded_text) # sub : expanded_text에서 ' 을 공백으로 바꿈 # 이 코드 없어도 위에서 변환 잘 돼서 주석처리\r\n",
    "    return expanded_text\r\n",
    "\r\n",
    "expand_contractions(\"Y'all Can't expand contractions I'd think\")\r\n",
    "# contraction 목록에 Y'all 은 없고 y'all 은 있음"
   ]
  },
  {
   "cell_type": "code",
   "execution_count": 12,
   "metadata": {
    "executionInfo": {
     "elapsed": 3005,
     "status": "ok",
     "timestamp": 1613974134232,
     "user": {
      "displayName": "김준태",
      "photoUrl": "https://lh3.googleusercontent.com/a-/AOh14Gg9__DcWYxTiKkAN1YWi9jmHLzkwYN4gTdJzi25=s64",
      "userId": "12897466227471433900"
     },
     "user_tz": -540
    },
    "id": "ojMMSJZtTd77"
   },
   "outputs": [],
   "source": [
    "#HappyEmoticons\r\n",
    "emoticons_happy = set([\r\n",
    "    ':-)', ':)', ';)', ':o)', ':]', ':3', ':c)', ':>', '=]', '8)', '=)', ':}',\r\n",
    "    ':^)', ':-D', ':D', '8-D', '8D', 'x-D', 'xD', 'X-D', 'XD', '=-D', '=D',\r\n",
    "    '=-3', '=3', ':-))', \":'-)\", \":')\", ':*', ':^*', '>:P', ':-P', ':P', 'X-P',\r\n",
    "    'x-p', 'xp', 'XP', ':-p', ':p', '=p', ':-b', ':b', '>:)', '>;)', '>:-)',\r\n",
    "    '<3', 'lol', 'LOL'\r\n",
    "    ])\r\n",
    "\r\n",
    "# Sad Emoticons\r\n",
    "emoticons_sad = set([\r\n",
    "    ':L', ':-/', '>:/', ':S', '>:[', ':@', ':-(', ':[', ':-||', '=L', ':<',\r\n",
    "    ':-[', ':-<', '=\\\\', '=/', '>:(', ':(', '>.<', \":'-(\", \":'(\", ':\\\\', ':-c',\r\n",
    "    ':c', ':{', '>:\\\\', ';('\r\n",
    "    ])\r\n",
    "\r\n",
    "\r\n",
    "#Emoji patterns\r\n",
    "emoji_pattern = re.compile(\"[\"\r\n",
    "         u\"\\U0001F600-\\U0001F64F\"  # emoticons / unicode U0001F600: 웃는 모양 \r\n",
    "         u\"\\U0001F300-\\U0001F5FF\"  # symbols & pictographs\r\n",
    "         u\"\\U0001F680-\\U0001F6FF\"  # transport & map symbols\r\n",
    "         u\"\\U0001F1E0-\\U0001F1FF\"  # flags (iOS)\r\n",
    "         u\"\\U00002702-\\U000027B0\"\r\n",
    "         u\"\\U000024C2-\\U0001F251\"\r\n",
    "         \"]+\", flags=re.UNICODE)\r\n",
    "\r\n",
    "#combine sad and happy emoticons\r\n",
    "emoticons = emoticons_happy.union(emoticons_sad)"
   ]
  },
  {
   "cell_type": "code",
   "execution_count": 13,
   "metadata": {
    "colab": {
     "base_uri": "https://localhost:8080/"
    },
    "executionInfo": {
     "elapsed": 7142,
     "status": "ok",
     "timestamp": 1613974138372,
     "user": {
      "displayName": "김준태",
      "photoUrl": "https://lh3.googleusercontent.com/a-/AOh14Gg9__DcWYxTiKkAN1YWi9jmHLzkwYN4gTdJzi25=s64",
      "userId": "12897466227471433900"
     },
     "user_tz": -540
    },
    "id": "DB_do--CTd_7",
    "outputId": "bee3af42-4a5f-42d6-8a7a-4d57ba50a755"
   },
   "outputs": [
    {
     "name": "stdout",
     "output_type": "stream",
     "text": [
      "dataset loaded with shape (1599999, 4)\n"
     ]
    }
   ],
   "source": [
    "def ingest():\r\n",
    "    data = pd.read_csv('/content/gdrive/My Drive/Colab Notebooks/BERT_Preprocessing/tweets.csv', encoding='latin-1') # 파일 저장소 디렉토리\r\n",
    "    data.columns=[\"Sentiment\",\"ItemID\",\"Date\",\"Blank\",\"SentimentSource\",\"SentimentText\"]\r\n",
    "    data.drop(['ItemID', 'SentimentSource'], axis=1, inplace=True)\r\n",
    "    data = data[data.Sentiment.isnull() == False] # null이 아닌 값만 가져옴\r\n",
    "    data['Sentiment'] = data['Sentiment'].map( {4:1, 0:0}) #Converting 4 to 1 # 원본 데이터에 4->1로, 0->0으로 바꿔줌\r\n",
    "    data = data[data['SentimentText'].isnull() == False] # null이 아닌 값만 가져옴\r\n",
    "    data.reset_index(inplace=True)\r\n",
    "    data.drop('index', axis=1, inplace=True)\r\n",
    "    print ('dataset loaded with shape', data.shape  )  \r\n",
    "    return data\r\n",
    "\r\n",
    "data = ingest()"
   ]
  },
  {
   "cell_type": "code",
   "execution_count": 14,
   "metadata": {
    "colab": {
     "base_uri": "https://localhost:8080/",
     "height": 204
    },
    "executionInfo": {
     "elapsed": 7138,
     "status": "ok",
     "timestamp": 1613974138374,
     "user": {
      "displayName": "김준태",
      "photoUrl": "https://lh3.googleusercontent.com/a-/AOh14Gg9__DcWYxTiKkAN1YWi9jmHLzkwYN4gTdJzi25=s64",
      "userId": "12897466227471433900"
     },
     "user_tz": -540
    },
    "id": "roZCXGjwTeED",
    "outputId": "fe287d88-466a-42f9-c9e5-e4ceb25ecefa"
   },
   "outputs": [
    {
     "data": {
      "text/html": [
       "<div>\n",
       "<style scoped>\n",
       "    .dataframe tbody tr th:only-of-type {\n",
       "        vertical-align: middle;\n",
       "    }\n",
       "\n",
       "    .dataframe tbody tr th {\n",
       "        vertical-align: top;\n",
       "    }\n",
       "\n",
       "    .dataframe thead th {\n",
       "        text-align: right;\n",
       "    }\n",
       "</style>\n",
       "<table border=\"1\" class=\"dataframe\">\n",
       "  <thead>\n",
       "    <tr style=\"text-align: right;\">\n",
       "      <th></th>\n",
       "      <th>Sentiment</th>\n",
       "      <th>Date</th>\n",
       "      <th>Blank</th>\n",
       "      <th>SentimentText</th>\n",
       "    </tr>\n",
       "  </thead>\n",
       "  <tbody>\n",
       "    <tr>\n",
       "      <th>0</th>\n",
       "      <td>0</td>\n",
       "      <td>Mon Apr 06 22:19:49 PDT 2009</td>\n",
       "      <td>NO_QUERY</td>\n",
       "      <td>is upset that he can't update his Facebook by ...</td>\n",
       "    </tr>\n",
       "    <tr>\n",
       "      <th>1</th>\n",
       "      <td>0</td>\n",
       "      <td>Mon Apr 06 22:19:53 PDT 2009</td>\n",
       "      <td>NO_QUERY</td>\n",
       "      <td>@Kenichan I dived many times for the ball. Man...</td>\n",
       "    </tr>\n",
       "    <tr>\n",
       "      <th>2</th>\n",
       "      <td>0</td>\n",
       "      <td>Mon Apr 06 22:19:57 PDT 2009</td>\n",
       "      <td>NO_QUERY</td>\n",
       "      <td>my whole body feels itchy and like its on fire</td>\n",
       "    </tr>\n",
       "    <tr>\n",
       "      <th>3</th>\n",
       "      <td>0</td>\n",
       "      <td>Mon Apr 06 22:19:57 PDT 2009</td>\n",
       "      <td>NO_QUERY</td>\n",
       "      <td>@nationwideclass no, it's not behaving at all....</td>\n",
       "    </tr>\n",
       "    <tr>\n",
       "      <th>4</th>\n",
       "      <td>0</td>\n",
       "      <td>Mon Apr 06 22:20:00 PDT 2009</td>\n",
       "      <td>NO_QUERY</td>\n",
       "      <td>@Kwesidei not the whole crew</td>\n",
       "    </tr>\n",
       "  </tbody>\n",
       "</table>\n",
       "</div>"
      ],
      "text/plain": [
       "   Sentiment  ...                                      SentimentText\n",
       "0          0  ...  is upset that he can't update his Facebook by ...\n",
       "1          0  ...  @Kenichan I dived many times for the ball. Man...\n",
       "2          0  ...    my whole body feels itchy and like its on fire \n",
       "3          0  ...  @nationwideclass no, it's not behaving at all....\n",
       "4          0  ...                      @Kwesidei not the whole crew \n",
       "\n",
       "[5 rows x 4 columns]"
      ]
     },
     "execution_count": 14,
     "metadata": {
      "tags": []
     },
     "output_type": "execute_result"
    }
   ],
   "source": [
    "data.head()"
   ]
  },
  {
   "cell_type": "code",
   "execution_count": 15,
   "metadata": {
    "colab": {
     "base_uri": "https://localhost:8080/",
     "height": 204
    },
    "executionInfo": {
     "elapsed": 7134,
     "status": "ok",
     "timestamp": 1613974138375,
     "user": {
      "displayName": "김준태",
      "photoUrl": "https://lh3.googleusercontent.com/a-/AOh14Gg9__DcWYxTiKkAN1YWi9jmHLzkwYN4gTdJzi25=s64",
      "userId": "12897466227471433900"
     },
     "user_tz": -540
    },
    "id": "2fECM7G-TeIH",
    "outputId": "2a297717-2ca7-4768-e6e9-869fd82aff1c"
   },
   "outputs": [
    {
     "data": {
      "text/html": [
       "<div>\n",
       "<style scoped>\n",
       "    .dataframe tbody tr th:only-of-type {\n",
       "        vertical-align: middle;\n",
       "    }\n",
       "\n",
       "    .dataframe tbody tr th {\n",
       "        vertical-align: top;\n",
       "    }\n",
       "\n",
       "    .dataframe thead th {\n",
       "        text-align: right;\n",
       "    }\n",
       "</style>\n",
       "<table border=\"1\" class=\"dataframe\">\n",
       "  <thead>\n",
       "    <tr style=\"text-align: right;\">\n",
       "      <th></th>\n",
       "      <th>Sentiment</th>\n",
       "      <th>Date</th>\n",
       "      <th>Blank</th>\n",
       "      <th>SentimentText</th>\n",
       "    </tr>\n",
       "  </thead>\n",
       "  <tbody>\n",
       "    <tr>\n",
       "      <th>799999</th>\n",
       "      <td>1</td>\n",
       "      <td>Mon Apr 06 22:22:45 PDT 2009</td>\n",
       "      <td>NO_QUERY</td>\n",
       "      <td>I LOVE @Health4UandPets u guys r the best!!</td>\n",
       "    </tr>\n",
       "    <tr>\n",
       "      <th>800000</th>\n",
       "      <td>1</td>\n",
       "      <td>Mon Apr 06 22:22:45 PDT 2009</td>\n",
       "      <td>NO_QUERY</td>\n",
       "      <td>im meeting up with one of my besties tonight! ...</td>\n",
       "    </tr>\n",
       "    <tr>\n",
       "      <th>800001</th>\n",
       "      <td>1</td>\n",
       "      <td>Mon Apr 06 22:22:46 PDT 2009</td>\n",
       "      <td>NO_QUERY</td>\n",
       "      <td>@DaRealSunisaKim Thanks for the Twitter add, S...</td>\n",
       "    </tr>\n",
       "    <tr>\n",
       "      <th>800002</th>\n",
       "      <td>1</td>\n",
       "      <td>Mon Apr 06 22:22:46 PDT 2009</td>\n",
       "      <td>NO_QUERY</td>\n",
       "      <td>Being sick can be really cheap when it hurts t...</td>\n",
       "    </tr>\n",
       "    <tr>\n",
       "      <th>800003</th>\n",
       "      <td>1</td>\n",
       "      <td>Mon Apr 06 22:22:46 PDT 2009</td>\n",
       "      <td>NO_QUERY</td>\n",
       "      <td>@LovesBrooklyn2 he has that effect on everyone</td>\n",
       "    </tr>\n",
       "  </tbody>\n",
       "</table>\n",
       "</div>"
      ],
      "text/plain": [
       "        Sentiment  ...                                      SentimentText\n",
       "799999          1  ...       I LOVE @Health4UandPets u guys r the best!! \n",
       "800000          1  ...  im meeting up with one of my besties tonight! ...\n",
       "800001          1  ...  @DaRealSunisaKim Thanks for the Twitter add, S...\n",
       "800002          1  ...  Being sick can be really cheap when it hurts t...\n",
       "800003          1  ...    @LovesBrooklyn2 he has that effect on everyone \n",
       "\n",
       "[5 rows x 4 columns]"
      ]
     },
     "execution_count": 15,
     "metadata": {
      "tags": []
     },
     "output_type": "execute_result"
    }
   ],
   "source": [
    "data[data['Sentiment']==1].head()"
   ]
  },
  {
   "cell_type": "code",
   "execution_count": 16,
   "metadata": {
    "colab": {
     "base_uri": "https://localhost:8080/"
    },
    "executionInfo": {
     "elapsed": 7130,
     "status": "ok",
     "timestamp": 1613974138376,
     "user": {
      "displayName": "김준태",
      "photoUrl": "https://lh3.googleusercontent.com/a-/AOh14Gg9__DcWYxTiKkAN1YWi9jmHLzkwYN4gTdJzi25=s64",
      "userId": "12897466227471433900"
     },
     "user_tz": -540
    },
    "id": "dcTW-Zz0TeL7",
    "outputId": "59f5b248-e699-4089-d727-bd007172863f"
   },
   "outputs": [
    {
     "data": {
      "text/plain": [
       "1600000"
      ]
     },
     "execution_count": 16,
     "metadata": {
      "tags": []
     },
     "output_type": "execute_result"
    }
   ],
   "source": [
    "# 원본 데이터가 160만 개에서 한 개가 부족해서 데이터 한 개 추가\r\n",
    "df = pd.DataFrame(columns=['Sentiment', 'Date', 'Blank', 'SentimentText'])\r\n",
    "df.loc[0] = [0,'Mon Apr 06 22:20:20 PDT 2009','NO_QUERY',\r\n",
    "             \"@smarrison i would've been the first, but i didn't have a gun. not really though, zac snyder's just a doucheclown.\"]\r\n",
    "df2 = data.append(df , ignore_index=True)\r\n",
    "len(df2)"
   ]
  },
  {
   "cell_type": "code",
   "execution_count": 17,
   "metadata": {
    "executionInfo": {
     "elapsed": 7126,
     "status": "ok",
     "timestamp": 1613974138376,
     "user": {
      "displayName": "김준태",
      "photoUrl": "https://lh3.googleusercontent.com/a-/AOh14Gg9__DcWYxTiKkAN1YWi9jmHLzkwYN4gTdJzi25=s64",
      "userId": "12897466227471433900"
     },
     "user_tz": -540
    },
    "id": "Zh2UBDlgTeQD"
   },
   "outputs": [],
   "source": [
    "data = df2"
   ]
  },
  {
   "cell_type": "code",
   "execution_count": 18,
   "metadata": {
    "executionInfo": {
     "elapsed": 7124,
     "status": "ok",
     "timestamp": 1613974138377,
     "user": {
      "displayName": "김준태",
      "photoUrl": "https://lh3.googleusercontent.com/a-/AOh14Gg9__DcWYxTiKkAN1YWi9jmHLzkwYN4gTdJzi25=s64",
      "userId": "12897466227471433900"
     },
     "user_tz": -540
    },
    "id": "xaPgi3dRTeUG"
   },
   "outputs": [],
   "source": [
    "def data_text_cleaning_lemma(data):\r\n",
    "    tweet = data.lower().strip() # 소문자화\r\n",
    "    tweet = tweet.replace(\"’\",\"'\") # 작은 따움표 표기법 바꾸기 \r\n",
    "    #print(tweet)\r\n",
    "    \r\n",
    "    if tweet.startswith('=@'): # 일부 예외적 데이터 수정\r\n",
    "        tweet = tweet[1:]\r\n",
    "    elif tweet.startswith('rt @'):\r\n",
    "        tweet = tweet[3:]\r\n",
    "    else:\r\n",
    "        tweet = tweet \r\n",
    "        \r\n",
    "    data_split = tokenizer.tokenize(tweet) # 단어 토큰화 \r\n",
    "    no_contractions = [expand_contractions(x) for x in data_split] # 축약어 처리\r\n",
    "    data_split2 = []\r\n",
    "\r\n",
    "    for s in range(len(no_contractions)):\r\n",
    "        partial = tokenizer.tokenize(no_contractions[s]) # 처리한 축약어 토큰화\r\n",
    "        for x in range(len(partial)):\r\n",
    "            data_split2.append(partial[x]) # 처리한 토큰 추가\r\n",
    "\r\n",
    "    # @, #, http 로 시작하는 토큰 제거 \r\n",
    "    trim_data = [x for x in data_split2 if not x.startswith('@') | x.startswith('=@')| x.startswith('http') | x.startswith('#')]\r\n",
    "    # data_split2에 있는 x가 @, =@, http, # 으로 시작 하지 않으면 trim_data에 추가\r\n",
    "    # 이모티콘과 이모지 토큰 제거 \r\n",
    "    trim_data = [w for w in trim_data if not w in emoticons]\r\n",
    "    # trim_data에 있는 w가 emoticons에 없으면 trim_data에 추가 \r\n",
    "    trim_data2 = []\r\n",
    "\r\n",
    "    for s in range(len(trim_data)):\r\n",
    "        #print(data_split[s])\r\n",
    "        trim_data2.append(emoji_pattern.sub(r'', trim_data[s])) # trim_data의 s가 emoji_pattern에 맞으면 공백으로 바꾸어 trim_data2에 추가\r\n",
    "    \r\n",
    "    trim_data3 = []\r\n",
    "\r\n",
    "    # trim_data2에서 길이가 0이 아닌 것들을 trim_data3에 추가\r\n",
    "    for s in range(len(trim_data2)):\r\n",
    "        if len(trim_data2[s]) == 0:\r\n",
    "            pass\r\n",
    "        else:\r\n",
    "            trim_data3.append(trim_data2[s])\r\n",
    "\r\n",
    "    sample = ' '.join(trim_data3).strip() # join: list를 ' '으로 묶어 string으로 만듦 -> strip : 앞 뒤 공백 문자 없엠\r\n",
    "    sample = tokenizer.tokenize(sample)\r\n",
    "\r\n",
    "    # 영문자 이외 문자는 공백으로 변환\r\n",
    "    only_english = list(filter(lambda t: t.isalpha(), sample))\r\n",
    "    listToStr = ' '.join([str(elem) for elem in only_english]) \r\n",
    "    \r\n",
    "    #무의미하게 반복된 철자 수정\r\n",
    "    sentence = ''.join(['' if i > 1 and e == listToStr[i-2] and e == listToStr[i-1] else e for i,e in enumerate(listToStr)])\r\n",
    "    sentence = re.sub(r'\\s+', ' ', sentence)\r\n",
    "        \r\n",
    "    #표제어 추출\r\n",
    "    sentence_lemma = [lemma.lemmatize(w, get_wordnet_pos(w)) for w in nltk.word_tokenize(sentence)]\r\n",
    "    \r\n",
    "    # 불용어 제거 \r\n",
    "    tokens_without_stopwords = [x for x in sentence_lemma if x not in stopword_list]\r\n",
    "    \r\n",
    "    if len(tokens_without_stopwords) == 0:\r\n",
    "        tokens_without_stopwords = 'NC'\r\n",
    "    else:\r\n",
    "        pass\r\n",
    "\r\n",
    "    return tokens_without_stopwords"
   ]
  },
  {
   "cell_type": "code",
   "execution_count": 19,
   "metadata": {
    "executionInfo": {
     "elapsed": 7122,
     "status": "ok",
     "timestamp": 1613974138377,
     "user": {
      "displayName": "김준태",
      "photoUrl": "https://lh3.googleusercontent.com/a-/AOh14Gg9__DcWYxTiKkAN1YWi9jmHLzkwYN4gTdJzi25=s64",
      "userId": "12897466227471433900"
     },
     "user_tz": -540
    },
    "id": "g4UHBHWjTeYN"
   },
   "outputs": [],
   "source": [
    "tokenizer = TweetTokenizer()\r\n",
    "\r\n",
    "tqdm.pandas(desc=\"progress-bar\")\r\n",
    "\r\n",
    "def use_multiprocess(func, iter, workers):\r\n",
    "    pool = Pool(processes=workers)\r\n",
    "    result = pool.map(func, iter)\r\n",
    "    pool.close()\r\n",
    "    return result"
   ]
  },
  {
   "cell_type": "code",
   "execution_count": 20,
   "metadata": {
    "colab": {
     "base_uri": "https://localhost:8080/"
    },
    "executionInfo": {
     "elapsed": 2635214,
     "status": "ok",
     "timestamp": 1613976766472,
     "user": {
      "displayName": "김준태",
      "photoUrl": "https://lh3.googleusercontent.com/a-/AOh14Gg9__DcWYxTiKkAN1YWi9jmHLzkwYN4gTdJzi25=s64",
      "userId": "12897466227471433900"
     },
     "user_tz": -540
    },
    "id": "A6MQjUvITecu",
    "outputId": "1ee44f51-d86a-4b46-f5ab-687c27eb935a"
   },
   "outputs": [
    {
     "name": "stdout",
     "output_type": "stream",
     "text": [
      "실행 시간 : 43.8 min\n"
     ]
    }
   ],
   "source": [
    "if __name__ == '__main__':\r\n",
    "    start_time = time.time()\r\n",
    "    \r\n",
    "    data['TrimText_lemma'] = use_multiprocess(data_text_cleaning_lemma, data['SentimentText'], 10)\r\n",
    "    \r\n",
    "    print('실행 시간 :', round((time.time() - start_time)/60, 2), 'min')"
   ]
  },
  {
   "cell_type": "code",
   "execution_count": 21,
   "metadata": {
    "colab": {
     "base_uri": "https://localhost:8080/",
     "height": 204
    },
    "executionInfo": {
     "elapsed": 1086,
     "status": "ok",
     "timestamp": 1613976822858,
     "user": {
      "displayName": "김준태",
      "photoUrl": "https://lh3.googleusercontent.com/a-/AOh14Gg9__DcWYxTiKkAN1YWi9jmHLzkwYN4gTdJzi25=s64",
      "userId": "12897466227471433900"
     },
     "user_tz": -540
    },
    "id": "HURqudsWWyuM",
    "outputId": "63a61ba0-ebbb-4fad-af4b-169ac40431d7"
   },
   "outputs": [
    {
     "data": {
      "text/html": [
       "<div>\n",
       "<style scoped>\n",
       "    .dataframe tbody tr th:only-of-type {\n",
       "        vertical-align: middle;\n",
       "    }\n",
       "\n",
       "    .dataframe tbody tr th {\n",
       "        vertical-align: top;\n",
       "    }\n",
       "\n",
       "    .dataframe thead th {\n",
       "        text-align: right;\n",
       "    }\n",
       "</style>\n",
       "<table border=\"1\" class=\"dataframe\">\n",
       "  <thead>\n",
       "    <tr style=\"text-align: right;\">\n",
       "      <th></th>\n",
       "      <th>Sentiment</th>\n",
       "      <th>Date</th>\n",
       "      <th>Blank</th>\n",
       "      <th>SentimentText</th>\n",
       "      <th>TrimText_lemma</th>\n",
       "    </tr>\n",
       "  </thead>\n",
       "  <tbody>\n",
       "    <tr>\n",
       "      <th>0</th>\n",
       "      <td>0</td>\n",
       "      <td>Mon Apr 06 22:19:49 PDT 2009</td>\n",
       "      <td>NO_QUERY</td>\n",
       "      <td>is upset that he can't update his Facebook by ...</td>\n",
       "      <td>[upset, not, update, facebook, texting, might,...</td>\n",
       "    </tr>\n",
       "    <tr>\n",
       "      <th>1</th>\n",
       "      <td>0</td>\n",
       "      <td>Mon Apr 06 22:19:53 PDT 2009</td>\n",
       "      <td>NO_QUERY</td>\n",
       "      <td>@Kenichan I dived many times for the ball. Man...</td>\n",
       "      <td>[dive, many, time, ball, manage, save, rest, g...</td>\n",
       "    </tr>\n",
       "    <tr>\n",
       "      <th>2</th>\n",
       "      <td>0</td>\n",
       "      <td>Mon Apr 06 22:19:57 PDT 2009</td>\n",
       "      <td>NO_QUERY</td>\n",
       "      <td>my whole body feels itchy and like its on fire</td>\n",
       "      <td>[whole, body, feel, itchy, like, fire]</td>\n",
       "    </tr>\n",
       "    <tr>\n",
       "      <th>3</th>\n",
       "      <td>0</td>\n",
       "      <td>Mon Apr 06 22:19:57 PDT 2009</td>\n",
       "      <td>NO_QUERY</td>\n",
       "      <td>@nationwideclass no, it's not behaving at all....</td>\n",
       "      <td>[no, not, behaving, mad, not, see]</td>\n",
       "    </tr>\n",
       "    <tr>\n",
       "      <th>4</th>\n",
       "      <td>0</td>\n",
       "      <td>Mon Apr 06 22:20:00 PDT 2009</td>\n",
       "      <td>NO_QUERY</td>\n",
       "      <td>@Kwesidei not the whole crew</td>\n",
       "      <td>[not, whole, crew]</td>\n",
       "    </tr>\n",
       "  </tbody>\n",
       "</table>\n",
       "</div>"
      ],
      "text/plain": [
       "  Sentiment  ...                                     TrimText_lemma\n",
       "0         0  ...  [upset, not, update, facebook, texting, might,...\n",
       "1         0  ...  [dive, many, time, ball, manage, save, rest, g...\n",
       "2         0  ...             [whole, body, feel, itchy, like, fire]\n",
       "3         0  ...                 [no, not, behaving, mad, not, see]\n",
       "4         0  ...                                 [not, whole, crew]\n",
       "\n",
       "[5 rows x 5 columns]"
      ]
     },
     "execution_count": 21,
     "metadata": {
      "tags": []
     },
     "output_type": "execute_result"
    }
   ],
   "source": [
    "data.head()"
   ]
  },
  {
   "cell_type": "code",
   "execution_count": 22,
   "metadata": {
    "colab": {
     "base_uri": "https://localhost:8080/"
    },
    "executionInfo": {
     "elapsed": 5574,
     "status": "ok",
     "timestamp": 1613976864435,
     "user": {
      "displayName": "김준태",
      "photoUrl": "https://lh3.googleusercontent.com/a-/AOh14Gg9__DcWYxTiKkAN1YWi9jmHLzkwYN4gTdJzi25=s64",
      "userId": "12897466227471433900"
     },
     "user_tz": -540
    },
    "id": "Ae4QjOd4hABu",
    "outputId": "7f8832d1-4099-42ee-de4b-22a970be2294"
   },
   "outputs": [
    {
     "name": "stdout",
     "output_type": "stream",
     "text": [
      "실행 시간 : 0.08 min\n"
     ]
    }
   ],
   "source": [
    "def count(data):\r\n",
    "    return len(data)\r\n",
    "\r\n",
    "if __name__ == '__main__':\r\n",
    "    start_time = time.time()\r\n",
    "    \r\n",
    "    data['TrimText_lemma_len'] = use_multiprocess(count, data['TrimText_lemma'], 10)\r\n",
    "    \r\n",
    "    print('실행 시간 :', round((time.time() - start_time)/60, 2), 'min')"
   ]
  },
  {
   "cell_type": "code",
   "execution_count": 23,
   "metadata": {
    "colab": {
     "base_uri": "https://localhost:8080/",
     "height": 204
    },
    "executionInfo": {
     "elapsed": 640,
     "status": "ok",
     "timestamp": 1613976868727,
     "user": {
      "displayName": "김준태",
      "photoUrl": "https://lh3.googleusercontent.com/a-/AOh14Gg9__DcWYxTiKkAN1YWi9jmHLzkwYN4gTdJzi25=s64",
      "userId": "12897466227471433900"
     },
     "user_tz": -540
    },
    "id": "02E7LF3zhAHL",
    "outputId": "e468916a-e2d2-4a47-d225-9f0293259deb"
   },
   "outputs": [
    {
     "data": {
      "text/html": [
       "<div>\n",
       "<style scoped>\n",
       "    .dataframe tbody tr th:only-of-type {\n",
       "        vertical-align: middle;\n",
       "    }\n",
       "\n",
       "    .dataframe tbody tr th {\n",
       "        vertical-align: top;\n",
       "    }\n",
       "\n",
       "    .dataframe thead th {\n",
       "        text-align: right;\n",
       "    }\n",
       "</style>\n",
       "<table border=\"1\" class=\"dataframe\">\n",
       "  <thead>\n",
       "    <tr style=\"text-align: right;\">\n",
       "      <th></th>\n",
       "      <th>Sentiment</th>\n",
       "      <th>Date</th>\n",
       "      <th>Blank</th>\n",
       "      <th>SentimentText</th>\n",
       "      <th>TrimText_lemma</th>\n",
       "      <th>TrimText_lemma_len</th>\n",
       "    </tr>\n",
       "  </thead>\n",
       "  <tbody>\n",
       "    <tr>\n",
       "      <th>0</th>\n",
       "      <td>0</td>\n",
       "      <td>Mon Apr 06 22:19:49 PDT 2009</td>\n",
       "      <td>NO_QUERY</td>\n",
       "      <td>is upset that he can't update his Facebook by ...</td>\n",
       "      <td>[upset, not, update, facebook, texting, might,...</td>\n",
       "      <td>12</td>\n",
       "    </tr>\n",
       "    <tr>\n",
       "      <th>1</th>\n",
       "      <td>0</td>\n",
       "      <td>Mon Apr 06 22:19:53 PDT 2009</td>\n",
       "      <td>NO_QUERY</td>\n",
       "      <td>@Kenichan I dived many times for the ball. Man...</td>\n",
       "      <td>[dive, many, time, ball, manage, save, rest, g...</td>\n",
       "      <td>9</td>\n",
       "    </tr>\n",
       "    <tr>\n",
       "      <th>2</th>\n",
       "      <td>0</td>\n",
       "      <td>Mon Apr 06 22:19:57 PDT 2009</td>\n",
       "      <td>NO_QUERY</td>\n",
       "      <td>my whole body feels itchy and like its on fire</td>\n",
       "      <td>[whole, body, feel, itchy, like, fire]</td>\n",
       "      <td>6</td>\n",
       "    </tr>\n",
       "    <tr>\n",
       "      <th>3</th>\n",
       "      <td>0</td>\n",
       "      <td>Mon Apr 06 22:19:57 PDT 2009</td>\n",
       "      <td>NO_QUERY</td>\n",
       "      <td>@nationwideclass no, it's not behaving at all....</td>\n",
       "      <td>[no, not, behaving, mad, not, see]</td>\n",
       "      <td>6</td>\n",
       "    </tr>\n",
       "    <tr>\n",
       "      <th>4</th>\n",
       "      <td>0</td>\n",
       "      <td>Mon Apr 06 22:20:00 PDT 2009</td>\n",
       "      <td>NO_QUERY</td>\n",
       "      <td>@Kwesidei not the whole crew</td>\n",
       "      <td>[not, whole, crew]</td>\n",
       "      <td>3</td>\n",
       "    </tr>\n",
       "  </tbody>\n",
       "</table>\n",
       "</div>"
      ],
      "text/plain": [
       "  Sentiment  ... TrimText_lemma_len\n",
       "0         0  ...                 12\n",
       "1         0  ...                  9\n",
       "2         0  ...                  6\n",
       "3         0  ...                  6\n",
       "4         0  ...                  3\n",
       "\n",
       "[5 rows x 6 columns]"
      ]
     },
     "execution_count": 23,
     "metadata": {
      "tags": []
     },
     "output_type": "execute_result"
    }
   ],
   "source": [
    "data.head()"
   ]
  },
  {
   "cell_type": "code",
   "execution_count": 24,
   "metadata": {
    "colab": {
     "base_uri": "https://localhost:8080/"
    },
    "executionInfo": {
     "elapsed": 384,
     "status": "ok",
     "timestamp": 1613976900720,
     "user": {
      "displayName": "김준태",
      "photoUrl": "https://lh3.googleusercontent.com/a-/AOh14Gg9__DcWYxTiKkAN1YWi9jmHLzkwYN4gTdJzi25=s64",
      "userId": "12897466227471433900"
     },
     "user_tz": -540
    },
    "id": "K_3rW9ZHhAL9",
    "outputId": "1dea323c-18c7-4dda-a8ef-750e00ef3dc6"
   },
   "outputs": [
    {
     "data": {
      "text/plain": [
       "count    1.600000e+06\n",
       "mean     6.980012e+00\n",
       "std      3.881035e+00\n",
       "min      1.000000e+00\n",
       "25%      4.000000e+00\n",
       "50%      6.000000e+00\n",
       "75%      1.000000e+01\n",
       "max      1.160000e+02\n",
       "Name: TrimText_lemma_len, dtype: float64"
      ]
     },
     "execution_count": 24,
     "metadata": {
      "tags": []
     },
     "output_type": "execute_result"
    }
   ],
   "source": [
    "data['TrimText_lemma_len'].describe()\r\n",
    "# 평균 6.98\r\n",
    "# 표준편차 3.88\r\n",
    "# 최소값 : 1\r\n",
    "# median : 6\r\n",
    "# 최대값 : 116"
   ]
  },
  {
   "cell_type": "code",
   "execution_count": 25,
   "metadata": {
    "colab": {
     "base_uri": "https://localhost:8080/"
    },
    "executionInfo": {
     "elapsed": 1297,
     "status": "ok",
     "timestamp": 1613977076092,
     "user": {
      "displayName": "김준태",
      "photoUrl": "https://lh3.googleusercontent.com/a-/AOh14Gg9__DcWYxTiKkAN1YWi9jmHLzkwYN4gTdJzi25=s64",
      "userId": "12897466227471433900"
     },
     "user_tz": -540
    },
    "id": "xX3isgVahAQE",
    "outputId": "0ed5e787-4d95-4b9f-e450-7b60f6264fd7"
   },
   "outputs": [
    {
     "name": "stdout",
     "output_type": "stream",
     "text": [
      "1599498\n",
      "799851\n",
      "799647\n"
     ]
    }
   ],
   "source": [
    "# 토큰 26개 넘는 데이터 삭제\r\n",
    "data2 = data[data.TrimText_lemma_len < 26]\r\n",
    "print(len(data2))\r\n",
    "print(len(data2[data2.Sentiment == 0]))\r\n",
    "print(len(data2[data2.Sentiment == 1]))"
   ]
  },
  {
   "cell_type": "code",
   "execution_count": 26,
   "metadata": {
    "colab": {
     "base_uri": "https://localhost:8080/"
    },
    "executionInfo": {
     "elapsed": 633,
     "status": "ok",
     "timestamp": 1613977088069,
     "user": {
      "displayName": "김준태",
      "photoUrl": "https://lh3.googleusercontent.com/a-/AOh14Gg9__DcWYxTiKkAN1YWi9jmHLzkwYN4gTdJzi25=s64",
      "userId": "12897466227471433900"
     },
     "user_tz": -540
    },
    "id": "_OiTTHIkhAUM",
    "outputId": "5fecae4e-eafe-41a6-c28e-68635f218f3e"
   },
   "outputs": [
    {
     "data": {
      "text/plain": [
       "['upset',\n",
       " 'not',\n",
       " 'update',\n",
       " 'facebook',\n",
       " 'texting',\n",
       " 'might',\n",
       " 'cry',\n",
       " 'result',\n",
       " 'school',\n",
       " 'today',\n",
       " 'also',\n",
       " 'blah']"
      ]
     },
     "execution_count": 26,
     "metadata": {
      "tags": []
     },
     "output_type": "execute_result"
    }
   ],
   "source": [
    "data2.TrimText_lemma[0]"
   ]
  },
  {
   "cell_type": "code",
   "execution_count": 28,
   "metadata": {
    "colab": {
     "base_uri": "https://localhost:8080/"
    },
    "executionInfo": {
     "elapsed": 6051,
     "status": "ok",
     "timestamp": 1613977156323,
     "user": {
      "displayName": "김준태",
      "photoUrl": "https://lh3.googleusercontent.com/a-/AOh14Gg9__DcWYxTiKkAN1YWi9jmHLzkwYN4gTdJzi25=s64",
      "userId": "12897466227471433900"
     },
     "user_tz": -540
    },
    "id": "DIJpMxQVhAXk",
    "outputId": "50446193-0eb4-4a42-e95d-7c023aaa0401"
   },
   "outputs": [
    {
     "name": "stdout",
     "output_type": "stream",
     "text": [
      "실행 시간 : 0.09 min\n"
     ]
    },
    {
     "name": "stderr",
     "output_type": "stream",
     "text": [
      "/usr/local/lib/python3.6/dist-packages/ipykernel_launcher.py:8: SettingWithCopyWarning: \n",
      "A value is trying to be set on a copy of a slice from a DataFrame.\n",
      "Try using .loc[row_indexer,col_indexer] = value instead\n",
      "\n",
      "See the caveats in the documentation: https://pandas.pydata.org/pandas-docs/stable/user_guide/indexing.html#returning-a-view-versus-a-copy\n",
      "  \n"
     ]
    }
   ],
   "source": [
    "def join_data(txt):\r\n",
    "    txt = ' '.join(txt)\r\n",
    "    return txt\r\n",
    "\r\n",
    "if __name__ == '__main__':\r\n",
    "    start_time = time.time()\r\n",
    "\r\n",
    "    data2['TrimText_lemma_join'] = use_multiprocess(join_data, data2['TrimText_lemma'], 10)\r\n",
    "\r\n",
    "    print('실행 시간 :', round((time.time() - start_time)/60, 2), 'min')"
   ]
  },
  {
   "cell_type": "code",
   "execution_count": 29,
   "metadata": {
    "colab": {
     "base_uri": "https://localhost:8080/",
     "height": 289
    },
    "executionInfo": {
     "elapsed": 650,
     "status": "ok",
     "timestamp": 1613977177181,
     "user": {
      "displayName": "김준태",
      "photoUrl": "https://lh3.googleusercontent.com/a-/AOh14Gg9__DcWYxTiKkAN1YWi9jmHLzkwYN4gTdJzi25=s64",
      "userId": "12897466227471433900"
     },
     "user_tz": -540
    },
    "id": "KJ8Oc73aiPB9",
    "outputId": "1067eca9-887d-4503-ee6c-444e360d161c"
   },
   "outputs": [
    {
     "data": {
      "text/html": [
       "<div>\n",
       "<style scoped>\n",
       "    .dataframe tbody tr th:only-of-type {\n",
       "        vertical-align: middle;\n",
       "    }\n",
       "\n",
       "    .dataframe tbody tr th {\n",
       "        vertical-align: top;\n",
       "    }\n",
       "\n",
       "    .dataframe thead th {\n",
       "        text-align: right;\n",
       "    }\n",
       "</style>\n",
       "<table border=\"1\" class=\"dataframe\">\n",
       "  <thead>\n",
       "    <tr style=\"text-align: right;\">\n",
       "      <th></th>\n",
       "      <th>Sentiment</th>\n",
       "      <th>Date</th>\n",
       "      <th>Blank</th>\n",
       "      <th>SentimentText</th>\n",
       "      <th>TrimText_lemma</th>\n",
       "      <th>TrimText_lemma_len</th>\n",
       "      <th>TrimText_lemma_join</th>\n",
       "    </tr>\n",
       "  </thead>\n",
       "  <tbody>\n",
       "    <tr>\n",
       "      <th>0</th>\n",
       "      <td>0</td>\n",
       "      <td>Mon Apr 06 22:19:49 PDT 2009</td>\n",
       "      <td>NO_QUERY</td>\n",
       "      <td>is upset that he can't update his Facebook by ...</td>\n",
       "      <td>[upset, not, update, facebook, texting, might,...</td>\n",
       "      <td>12</td>\n",
       "      <td>upset not update facebook texting might cry re...</td>\n",
       "    </tr>\n",
       "    <tr>\n",
       "      <th>1</th>\n",
       "      <td>0</td>\n",
       "      <td>Mon Apr 06 22:19:53 PDT 2009</td>\n",
       "      <td>NO_QUERY</td>\n",
       "      <td>@Kenichan I dived many times for the ball. Man...</td>\n",
       "      <td>[dive, many, time, ball, manage, save, rest, g...</td>\n",
       "      <td>9</td>\n",
       "      <td>dive many time ball manage save rest go bound</td>\n",
       "    </tr>\n",
       "    <tr>\n",
       "      <th>2</th>\n",
       "      <td>0</td>\n",
       "      <td>Mon Apr 06 22:19:57 PDT 2009</td>\n",
       "      <td>NO_QUERY</td>\n",
       "      <td>my whole body feels itchy and like its on fire</td>\n",
       "      <td>[whole, body, feel, itchy, like, fire]</td>\n",
       "      <td>6</td>\n",
       "      <td>whole body feel itchy like fire</td>\n",
       "    </tr>\n",
       "    <tr>\n",
       "      <th>3</th>\n",
       "      <td>0</td>\n",
       "      <td>Mon Apr 06 22:19:57 PDT 2009</td>\n",
       "      <td>NO_QUERY</td>\n",
       "      <td>@nationwideclass no, it's not behaving at all....</td>\n",
       "      <td>[no, not, behaving, mad, not, see]</td>\n",
       "      <td>6</td>\n",
       "      <td>no not behaving mad not see</td>\n",
       "    </tr>\n",
       "    <tr>\n",
       "      <th>4</th>\n",
       "      <td>0</td>\n",
       "      <td>Mon Apr 06 22:20:00 PDT 2009</td>\n",
       "      <td>NO_QUERY</td>\n",
       "      <td>@Kwesidei not the whole crew</td>\n",
       "      <td>[not, whole, crew]</td>\n",
       "      <td>3</td>\n",
       "      <td>not whole crew</td>\n",
       "    </tr>\n",
       "  </tbody>\n",
       "</table>\n",
       "</div>"
      ],
      "text/plain": [
       "  Sentiment  ...                                TrimText_lemma_join\n",
       "0         0  ...  upset not update facebook texting might cry re...\n",
       "1         0  ...      dive many time ball manage save rest go bound\n",
       "2         0  ...                    whole body feel itchy like fire\n",
       "3         0  ...                        no not behaving mad not see\n",
       "4         0  ...                                     not whole crew\n",
       "\n",
       "[5 rows x 7 columns]"
      ]
     },
     "execution_count": 29,
     "metadata": {
      "tags": []
     },
     "output_type": "execute_result"
    }
   ],
   "source": [
    "data2.head()"
   ]
  },
  {
   "cell_type": "code",
   "execution_count": 33,
   "metadata": {
    "executionInfo": {
     "elapsed": 642,
     "status": "ok",
     "timestamp": 1613977293097,
     "user": {
      "displayName": "김준태",
      "photoUrl": "https://lh3.googleusercontent.com/a-/AOh14Gg9__DcWYxTiKkAN1YWi9jmHLzkwYN4gTdJzi25=s64",
      "userId": "12897466227471433900"
     },
     "user_tz": -540
    },
    "id": "BZl34xrRiPHV"
   },
   "outputs": [],
   "source": [
    "data2 = data2.rename(columns={\"TrimText_lemma_join\": \"TrimText_lemma_len_join\"})"
   ]
  },
  {
   "cell_type": "code",
   "execution_count": 34,
   "metadata": {
    "colab": {
     "base_uri": "https://localhost:8080/"
    },
    "executionInfo": {
     "elapsed": 727,
     "status": "ok",
     "timestamp": 1613977295639,
     "user": {
      "displayName": "김준태",
      "photoUrl": "https://lh3.googleusercontent.com/a-/AOh14Gg9__DcWYxTiKkAN1YWi9jmHLzkwYN4gTdJzi25=s64",
      "userId": "12897466227471433900"
     },
     "user_tz": -540
    },
    "id": "JcCWOtLWiPLc",
    "outputId": "c3cde66d-3c7c-4916-f88f-ced03cbfe09d"
   },
   "outputs": [
    {
     "name": "stdout",
     "output_type": "stream",
     "text": [
      "1599498\n",
      "<class 'str'>\n"
     ]
    }
   ],
   "source": [
    "print(len(data2))\r\n",
    "print(type(data2['TrimText_lemma_len_join'][0]))"
   ]
  },
  {
   "cell_type": "code",
   "execution_count": 35,
   "metadata": {
    "colab": {
     "base_uri": "https://localhost:8080/",
     "height": 289
    },
    "executionInfo": {
     "elapsed": 626,
     "status": "ok",
     "timestamp": 1613977305430,
     "user": {
      "displayName": "김준태",
      "photoUrl": "https://lh3.googleusercontent.com/a-/AOh14Gg9__DcWYxTiKkAN1YWi9jmHLzkwYN4gTdJzi25=s64",
      "userId": "12897466227471433900"
     },
     "user_tz": -540
    },
    "id": "8pCWm8t-iPP7",
    "outputId": "d42fbc05-1026-41a6-e7fe-a66134e864c7"
   },
   "outputs": [
    {
     "data": {
      "text/html": [
       "<div>\n",
       "<style scoped>\n",
       "    .dataframe tbody tr th:only-of-type {\n",
       "        vertical-align: middle;\n",
       "    }\n",
       "\n",
       "    .dataframe tbody tr th {\n",
       "        vertical-align: top;\n",
       "    }\n",
       "\n",
       "    .dataframe thead th {\n",
       "        text-align: right;\n",
       "    }\n",
       "</style>\n",
       "<table border=\"1\" class=\"dataframe\">\n",
       "  <thead>\n",
       "    <tr style=\"text-align: right;\">\n",
       "      <th></th>\n",
       "      <th>Sentiment</th>\n",
       "      <th>Date</th>\n",
       "      <th>Blank</th>\n",
       "      <th>SentimentText</th>\n",
       "      <th>TrimText_lemma</th>\n",
       "      <th>TrimText_lemma_len</th>\n",
       "      <th>TrimText_lemma_len_join</th>\n",
       "    </tr>\n",
       "  </thead>\n",
       "  <tbody>\n",
       "    <tr>\n",
       "      <th>0</th>\n",
       "      <td>0</td>\n",
       "      <td>Mon Apr 06 22:19:49 PDT 2009</td>\n",
       "      <td>NO_QUERY</td>\n",
       "      <td>is upset that he can't update his Facebook by ...</td>\n",
       "      <td>[upset, not, update, facebook, texting, might,...</td>\n",
       "      <td>12</td>\n",
       "      <td>upset not update facebook texting might cry re...</td>\n",
       "    </tr>\n",
       "    <tr>\n",
       "      <th>1</th>\n",
       "      <td>0</td>\n",
       "      <td>Mon Apr 06 22:19:53 PDT 2009</td>\n",
       "      <td>NO_QUERY</td>\n",
       "      <td>@Kenichan I dived many times for the ball. Man...</td>\n",
       "      <td>[dive, many, time, ball, manage, save, rest, g...</td>\n",
       "      <td>9</td>\n",
       "      <td>dive many time ball manage save rest go bound</td>\n",
       "    </tr>\n",
       "    <tr>\n",
       "      <th>2</th>\n",
       "      <td>0</td>\n",
       "      <td>Mon Apr 06 22:19:57 PDT 2009</td>\n",
       "      <td>NO_QUERY</td>\n",
       "      <td>my whole body feels itchy and like its on fire</td>\n",
       "      <td>[whole, body, feel, itchy, like, fire]</td>\n",
       "      <td>6</td>\n",
       "      <td>whole body feel itchy like fire</td>\n",
       "    </tr>\n",
       "    <tr>\n",
       "      <th>3</th>\n",
       "      <td>0</td>\n",
       "      <td>Mon Apr 06 22:19:57 PDT 2009</td>\n",
       "      <td>NO_QUERY</td>\n",
       "      <td>@nationwideclass no, it's not behaving at all....</td>\n",
       "      <td>[no, not, behaving, mad, not, see]</td>\n",
       "      <td>6</td>\n",
       "      <td>no not behaving mad not see</td>\n",
       "    </tr>\n",
       "    <tr>\n",
       "      <th>4</th>\n",
       "      <td>0</td>\n",
       "      <td>Mon Apr 06 22:20:00 PDT 2009</td>\n",
       "      <td>NO_QUERY</td>\n",
       "      <td>@Kwesidei not the whole crew</td>\n",
       "      <td>[not, whole, crew]</td>\n",
       "      <td>3</td>\n",
       "      <td>not whole crew</td>\n",
       "    </tr>\n",
       "  </tbody>\n",
       "</table>\n",
       "</div>"
      ],
      "text/plain": [
       "  Sentiment  ...                            TrimText_lemma_len_join\n",
       "0         0  ...  upset not update facebook texting might cry re...\n",
       "1         0  ...      dive many time ball manage save rest go bound\n",
       "2         0  ...                    whole body feel itchy like fire\n",
       "3         0  ...                        no not behaving mad not see\n",
       "4         0  ...                                     not whole crew\n",
       "\n",
       "[5 rows x 7 columns]"
      ]
     },
     "execution_count": 35,
     "metadata": {
      "tags": []
     },
     "output_type": "execute_result"
    }
   ],
   "source": [
    "data2.head()"
   ]
  },
  {
   "cell_type": "code",
   "execution_count": 36,
   "metadata": {
    "colab": {
     "base_uri": "https://localhost:8080/"
    },
    "executionInfo": {
     "elapsed": 605,
     "status": "ok",
     "timestamp": 1613977370273,
     "user": {
      "displayName": "김준태",
      "photoUrl": "https://lh3.googleusercontent.com/a-/AOh14Gg9__DcWYxTiKkAN1YWi9jmHLzkwYN4gTdJzi25=s64",
      "userId": "12897466227471433900"
     },
     "user_tz": -540
    },
    "id": "-CZhoLFMiPSj",
    "outputId": "b98eeae1-351e-48f3-dfc3-a35389759aa9"
   },
   "outputs": [
    {
     "name": "stdout",
     "output_type": "stream",
     "text": [
      "6.0\n",
      "25\n"
     ]
    }
   ],
   "source": [
    "print(data2['TrimText_lemma_len'].median())\r\n",
    "print(data2['TrimText_lemma_len'].max())"
   ]
  },
  {
   "cell_type": "code",
   "execution_count": 40,
   "metadata": {
    "colab": {
     "base_uri": "https://localhost:8080/"
    },
    "executionInfo": {
     "elapsed": 928,
     "status": "ok",
     "timestamp": 1613977418310,
     "user": {
      "displayName": "김준태",
      "photoUrl": "https://lh3.googleusercontent.com/a-/AOh14Gg9__DcWYxTiKkAN1YWi9jmHLzkwYN4gTdJzi25=s64",
      "userId": "12897466227471433900"
     },
     "user_tz": -540
    },
    "id": "PBKUCHKtiPW3",
    "outputId": "4af0e373-2d7a-4bd6-b810-068aa98df8fe"
   },
   "outputs": [
    {
     "name": "stdout",
     "output_type": "stream",
     "text": [
      "799851\n",
      "799647\n"
     ]
    }
   ],
   "source": [
    "neg = data2[data2.Sentiment == 0]\r\n",
    "print(len(neg))\r\n",
    "pos = data2[data2.Sentiment == 1]\r\n",
    "print(len(pos))"
   ]
  },
  {
   "cell_type": "code",
   "execution_count": 41,
   "metadata": {
    "colab": {
     "base_uri": "https://localhost:8080/"
    },
    "executionInfo": {
     "elapsed": 1417,
     "status": "ok",
     "timestamp": 1613977457685,
     "user": {
      "displayName": "김준태",
      "photoUrl": "https://lh3.googleusercontent.com/a-/AOh14Gg9__DcWYxTiKkAN1YWi9jmHLzkwYN4gTdJzi25=s64",
      "userId": "12897466227471433900"
     },
     "user_tz": -540
    },
    "id": "3HuR6CNYiPeM",
    "outputId": "c1f24af5-9084-43d0-df3f-7cf9b9e8cca7"
   },
   "outputs": [
    {
     "name": "stdout",
     "output_type": "stream",
     "text": [
      "1000000\n",
      "400000\n"
     ]
    }
   ],
   "source": [
    "train = neg[:500000].append(pos[:500000])\r\n",
    "test = neg[500000:700000].append(pos[500000:700000])\r\n",
    "print(len(train))\r\n",
    "print(len(test))"
   ]
  },
  {
   "cell_type": "code",
   "execution_count": 43,
   "metadata": {
    "executionInfo": {
     "elapsed": 5939,
     "status": "ok",
     "timestamp": 1613977592067,
     "user": {
      "displayName": "김준태",
      "photoUrl": "https://lh3.googleusercontent.com/a-/AOh14Gg9__DcWYxTiKkAN1YWi9jmHLzkwYN4gTdJzi25=s64",
      "userId": "12897466227471433900"
     },
     "user_tz": -540
    },
    "id": "ZQxfWt91jMCB"
   },
   "outputs": [],
   "source": [
    "train.to_pickle(\"/content/gdrive/My Drive/Colab Notebooks/BERT_Preprocessing/train_data_210222.pkl\")\r\n",
    "test.to_pickle(\"/content/gdrive/My Drive/Colab Notebooks/BERT_Preprocessing/test_data_210222.pkl\")"
   ]
  }
 ],
 "metadata": {
  "accelerator": "GPU",
  "colab": {
   "authorship_tag": "ABX9TyNbltD9s8UvJXb5fguJXpnF",
   "collapsed_sections": [],
   "name": "BERT_Preprocessing_test.ipynb",
   "provenance": [],
   "toc_visible": true
  },
  "kernelspec": {
   "display_name": "Python 3",
   "language": "python",
   "name": "python3"
  },
  "language_info": {
   "codemirror_mode": {
    "name": "ipython",
    "version": 3
   },
   "file_extension": ".py",
   "mimetype": "text/x-python",
   "name": "python",
   "nbconvert_exporter": "python",
   "pygments_lexer": "ipython3",
   "version": "3.7.9"
  }
 },
 "nbformat": 4,
 "nbformat_minor": 4
}
